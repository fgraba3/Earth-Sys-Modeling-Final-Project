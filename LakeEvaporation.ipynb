{
  "nbformat": 4,
  "nbformat_minor": 0,
  "metadata": {
    "colab": {
      "provenance": []
    },
    "kernelspec": {
      "name": "python3",
      "display_name": "Python 3"
    },
    "language_info": {
      "name": "python"
    }
  },
  "cells": [
    {
      "cell_type": "code",
      "execution_count": null,
      "metadata": {
        "id": "LEz2rKxui4-y"
      },
      "outputs": [],
      "source": [
        "import numpy as py\n",
        "import pandas as pd\n",
        "import matplotlib.pyplot as plt"
      ]
    },
    {
      "cell_type": "code",
      "source": [
        "#set parameters:\n",
        "Cw = 4.184 #volumetric heat capacity of water (J/m^3/C)\n",
        "Beta = 0.4 # proportion of shortwave radiaition absorbed by surface layer\n",
        "k_m = #molecular diffusion of water\n",
        "K_star = #net shortwave radiation\n",
        "L_star = #net longwave radiation\n",
        "L_u = #longwave radiation from lake surface\n",
        "Q_e = #flux of latent heat\n",
        "Q_h = #flux of sensible heat\n",
        "A_z = #area of lake at depth z\n",
        "t = #time\n",
        "\n",
        "#5\n"
      ],
      "metadata": {
        "id": "MahC26R5kpNr",
        "colab": {
          "base_uri": "https://localhost:8080/",
          "height": 106
        },
        "outputId": "a4ce69ff-ed2d-40fa-d1ad-bd310fc24bf4"
      },
      "execution_count": null,
      "outputs": [
        {
          "output_type": "error",
          "ename": "SyntaxError",
          "evalue": "invalid syntax (<ipython-input-4-57c2086afaee>, line 4)",
          "traceback": [
            "\u001b[0;36m  File \u001b[0;32m\"<ipython-input-4-57c2086afaee>\"\u001b[0;36m, line \u001b[0;32m4\u001b[0m\n\u001b[0;31m    Km =\u001b[0m\n\u001b[0m         ^\u001b[0m\n\u001b[0;31mSyntaxError\u001b[0m\u001b[0;31m:\u001b[0m invalid syntax\n"
          ]
        }
      ]
    },
    {
      "cell_type": "code",
      "source": [
        "def K_z(k,w_star,z,k_star,P0,Ri):\n",
        "  k = 0.4 #von Karman' constant\n",
        "  w_star = #surface value of the friction velocity\n",
        "  k_star = #latitude dept. param of ekman profile\n",
        "  z = #depth\n",
        "  P0 = 1.0 #turbulent Prandtl number\n",
        "  Ri = 0.25 #gradient Richardson number\n",
        "  return (k*w_star*z/P0)*np.exp(-k_star*z)*(1+(37*Ri**2))**-1"
      ],
      "metadata": {
        "id": "aYd1yh9cqKLA"
      },
      "execution_count": null,
      "outputs": []
    },
    {
      "cell_type": "code",
      "source": [
        "#pre allocation"
      ],
      "metadata": {
        "id": "1ebYWAWtn_oa"
      },
      "execution_count": null,
      "outputs": []
    },
    {
      "cell_type": "code",
      "source": [
        "def phi (beta, k_star, eta, z):\n",
        "  return phi = (1-beta)*K_star*np.exp(-eta*z)"
      ],
      "metadata": {
        "id": "g7enKmpmoBwD"
      },
      "execution_count": null,
      "outputs": []
    }
  ]
}